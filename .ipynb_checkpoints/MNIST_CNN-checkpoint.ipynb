{
 "cells": [
  {
   "cell_type": "markdown",
   "id": "e596e68a",
   "metadata": {},
   "source": [
    "# MNIST image classification with Convolutional Neural Network"
   ]
  },
  {
   "cell_type": "code",
   "execution_count": 1,
   "id": "5a9bc8ec",
   "metadata": {},
   "outputs": [
    {
     "name": "stderr",
     "output_type": "stream",
     "text": [
      "2023-10-22 16:06:16.043682: I tensorflow/core/platform/cpu_feature_guard.cc:182] This TensorFlow binary is optimized to use available CPU instructions in performance-critical operations.\n",
      "To enable the following instructions: AVX2 FMA, in other operations, rebuild TensorFlow with the appropriate compiler flags.\n"
     ]
    }
   ],
   "source": [
    "from keras.layers import Conv2D, MaxPooling2D, Flatten, Dense\n",
    "from keras.models import Sequential\n",
    "from keras.datasets import mnist\n",
    "from keras.utils import to_categorical\n",
    "import tensorflow as tf\n",
    "import datetime\n",
    "import os\n",
    "import numpy as np\n",
    "import seaborn as sns\n",
    "from sklearn.metrics import confusion_matrix\n",
    "\n",
    "import matplotlib.pyplot as plt\n",
    "%matplotlib inline"
   ]
  },
  {
   "cell_type": "markdown",
   "id": "cdb7b46f",
   "metadata": {},
   "source": [
    "## Load the Data"
   ]
  },
  {
   "cell_type": "code",
   "execution_count": 2,
   "id": "fbb60dc9",
   "metadata": {},
   "outputs": [],
   "source": [
    "(X_train, y_train), (X_test, y_test) = mnist.load_data()"
   ]
  },
  {
   "cell_type": "code",
   "execution_count": 3,
   "id": "f8b7fe80",
   "metadata": {},
   "outputs": [
    {
     "name": "stdout",
     "output_type": "stream",
     "text": [
      "(60000, 28, 28)\n",
      "(60000,)\n",
      "(10000, 28, 28)\n",
      "(10000,)\n"
     ]
    }
   ],
   "source": [
    "print(X_train.shape)\n",
    "print(y_train.shape)\n",
    "print(X_test.shape)\n",
    "print(y_test.shape)"
   ]
  },
  {
   "cell_type": "markdown",
   "id": "cfff6128",
   "metadata": {},
   "source": [
    "## Pre-processing\n",
    "Our MNIST images only have a depth of 1, but we must explicitly declare that"
   ]
  },
  {
   "cell_type": "code",
   "execution_count": 4,
   "id": "50457970",
   "metadata": {},
   "outputs": [],
   "source": [
    "num_classes = 10\n",
    "epochs = 15\n",
    "\n",
    "X_train = X_train.reshape(60000, 28, 28, 1)\n",
    "X_test = X_test.reshape(10000, 28, 28, 1)\n",
    "X_train = X_train.astype('float32')\n",
    "X_test = X_test.astype('float32')\n",
    "X_train /=255.0\n",
    "X_test /=255.0\n",
    "y_train = to_categorical(y_train, num_classes)\n",
    "y_test = to_categorical(y_test, num_classes)"
   ]
  },
  {
   "cell_type": "code",
   "execution_count": 5,
   "id": "87e8c5d8",
   "metadata": {},
   "outputs": [
    {
     "name": "stdout",
     "output_type": "stream",
     "text": [
      "(60000, 28, 28, 1)\n",
      "(60000, 10)\n",
      "(10000, 28, 28, 1)\n",
      "(10000, 10)\n"
     ]
    }
   ],
   "source": [
    "print(X_train.shape)\n",
    "print(y_train.shape)\n",
    "print(X_test.shape)\n",
    "print(y_test.shape)"
   ]
  },
  {
   "cell_type": "markdown",
   "id": "b5c04f9d",
   "metadata": {},
   "source": [
    "## Create & Compile the Model\n",
    "\n",
    "\n",
    "\n",
    "![Diagram](./model-arch.png)"
   ]
  },
  {
   "cell_type": "code",
   "execution_count": 6,
   "id": "8c0fbb4b",
   "metadata": {},
   "outputs": [],
   "source": [
    "cnn = Sequential()"
   ]
  },
  {
   "cell_type": "code",
   "execution_count": 7,
   "id": "b276dcef",
   "metadata": {},
   "outputs": [],
   "source": [
    "cnn.add(\n",
    "    Conv2D(\n",
    "        32,\n",
    "        kernel_size=(5, 5),\n",
    "        input_shape=(28, 28, 1),\n",
    "        padding='same',\n",
    "        activation='relu'\n",
    "    )\n",
    ")"
   ]
  },
  {
   "cell_type": "code",
   "execution_count": 8,
   "id": "2b7edf41",
   "metadata": {},
   "outputs": [],
   "source": [
    "cnn.add(MaxPooling2D())"
   ]
  },
  {
   "cell_type": "code",
   "execution_count": 9,
   "id": "31d2214f",
   "metadata": {},
   "outputs": [],
   "source": [
    "cnn.add(\n",
    "    Conv2D(\n",
    "        64,\n",
    "        kernel_size=(5, 5),\n",
    "        padding='same',\n",
    "        activation='relu'\n",
    "    )\n",
    ")"
   ]
  },
  {
   "cell_type": "code",
   "execution_count": 10,
   "id": "b72a6788",
   "metadata": {},
   "outputs": [],
   "source": [
    "cnn.add(MaxPooling2D())"
   ]
  },
  {
   "cell_type": "code",
   "execution_count": 11,
   "id": "f426250f",
   "metadata": {},
   "outputs": [],
   "source": [
    "cnn.add(Flatten())"
   ]
  },
  {
   "cell_type": "code",
   "execution_count": 12,
   "id": "afb5c42b",
   "metadata": {},
   "outputs": [],
   "source": [
    "cnn.add(\n",
    "    Dense(1024, activation='relu')\n",
    ")"
   ]
  },
  {
   "cell_type": "code",
   "execution_count": 13,
   "id": "9fe281d8",
   "metadata": {},
   "outputs": [],
   "source": [
    "cnn.add(\n",
    "    Dense(10, activation='softmax')\n",
    ")"
   ]
  },
  {
   "cell_type": "code",
   "execution_count": 14,
   "id": "0e9c2755",
   "metadata": {},
   "outputs": [],
   "source": [
    "cnn.compile(\n",
    "    optimizer='adam',\n",
    "    loss='categorical_crossentropy',\n",
    "    metrics=['accuracy']\n",
    ")"
   ]
  },
  {
   "cell_type": "code",
   "execution_count": 15,
   "id": "186a32f3",
   "metadata": {},
   "outputs": [
    {
     "name": "stdout",
     "output_type": "stream",
     "text": [
      "Model: \"sequential\"\n",
      "_________________________________________________________________\n",
      " Layer (type)                Output Shape              Param #   \n",
      "=================================================================\n",
      " conv2d (Conv2D)             (None, 28, 28, 32)        832       \n",
      "                                                                 \n",
      " max_pooling2d (MaxPooling2  (None, 14, 14, 32)        0         \n",
      " D)                                                              \n",
      "                                                                 \n",
      " conv2d_1 (Conv2D)           (None, 14, 14, 64)        51264     \n",
      "                                                                 \n",
      " max_pooling2d_1 (MaxPoolin  (None, 7, 7, 64)          0         \n",
      " g2D)                                                            \n",
      "                                                                 \n",
      " flatten (Flatten)           (None, 3136)              0         \n",
      "                                                                 \n",
      " dense (Dense)               (None, 1024)              3212288   \n",
      "                                                                 \n",
      " dense_1 (Dense)             (None, 10)                10250     \n",
      "                                                                 \n",
      "=================================================================\n",
      "Total params: 3274634 (12.49 MB)\n",
      "Trainable params: 3274634 (12.49 MB)\n",
      "Non-trainable params: 0 (0.00 Byte)\n",
      "_________________________________________________________________\n",
      "None\n"
     ]
    }
   ],
   "source": [
    "print(cnn.summary())"
   ]
  },
  {
   "cell_type": "markdown",
   "id": "de3b47f1",
   "metadata": {},
   "source": [
    "## Train the Model"
   ]
  },
  {
   "cell_type": "markdown",
   "id": "a9c05442",
   "metadata": {},
   "source": [
    "### Create callbacks for tensorboard and early stopping"
   ]
  },
  {
   "cell_type": "code",
   "execution_count": 16,
   "id": "55e9a553",
   "metadata": {},
   "outputs": [],
   "source": [
    "early_stopping = tf.keras.callbacks.EarlyStopping(\n",
    "    monitor=\"accuracy\",\n",
    "    patience=3\n",
    ")"
   ]
  },
  {
   "cell_type": "code",
   "execution_count": 17,
   "id": "4160a7ee",
   "metadata": {},
   "outputs": [],
   "source": [
    "def create_tensorboard_callback():\n",
    "  logdir = os.path.join('./logs', datetime.datetime.now().strftime('%Y%m%d-%H%M%S'))\n",
    "  return tf.keras.callbacks.TensorBoard(logdir)"
   ]
  },
  {
   "cell_type": "code",
   "execution_count": 18,
   "id": "32384ed1",
   "metadata": {},
   "outputs": [],
   "source": [
    "tensorboard = create_tensorboard_callback()"
   ]
  },
  {
   "cell_type": "markdown",
   "id": "c4d59fa5",
   "metadata": {},
   "source": [
    "### Fit the model"
   ]
  },
  {
   "cell_type": "code",
   "execution_count": 19,
   "id": "3cf244c1",
   "metadata": {},
   "outputs": [
    {
     "name": "stdout",
     "output_type": "stream",
     "text": [
      "Epoch 1/15\n",
      "1875/1875 [==============================] - 115s 61ms/step - loss: 0.0958 - accuracy: 0.9703 - val_loss: 0.0432 - val_accuracy: 0.9862\n",
      "Epoch 2/15\n",
      "1875/1875 [==============================] - 119s 64ms/step - loss: 0.0368 - accuracy: 0.9882 - val_loss: 0.0195 - val_accuracy: 0.9940\n",
      "Epoch 3/15\n",
      "1875/1875 [==============================] - 120s 64ms/step - loss: 0.0232 - accuracy: 0.9924 - val_loss: 0.0326 - val_accuracy: 0.9891\n",
      "Epoch 4/15\n",
      "1875/1875 [==============================] - 120s 64ms/step - loss: 0.0172 - accuracy: 0.9948 - val_loss: 0.0064 - val_accuracy: 0.9982\n",
      "Epoch 5/15\n",
      "1875/1875 [==============================] - 126s 67ms/step - loss: 0.0153 - accuracy: 0.9951 - val_loss: 0.0056 - val_accuracy: 0.9983\n",
      "Epoch 6/15\n",
      "1875/1875 [==============================] - 120s 64ms/step - loss: 0.0092 - accuracy: 0.9971 - val_loss: 0.0041 - val_accuracy: 0.9987\n",
      "Epoch 7/15\n",
      "1875/1875 [==============================] - 120s 64ms/step - loss: 0.0105 - accuracy: 0.9969 - val_loss: 0.0041 - val_accuracy: 0.9985\n",
      "Epoch 8/15\n",
      "1875/1875 [==============================] - 120s 64ms/step - loss: 0.0087 - accuracy: 0.9975 - val_loss: 0.0121 - val_accuracy: 0.9962\n",
      "Epoch 9/15\n",
      "1875/1875 [==============================] - 121s 64ms/step - loss: 0.0079 - accuracy: 0.9978 - val_loss: 0.0061 - val_accuracy: 0.9980\n",
      "Epoch 10/15\n",
      "1875/1875 [==============================] - 129s 69ms/step - loss: 0.0067 - accuracy: 0.9979 - val_loss: 0.0081 - val_accuracy: 0.9980\n",
      "Epoch 11/15\n",
      "1875/1875 [==============================] - 124s 66ms/step - loss: 0.0079 - accuracy: 0.9979 - val_loss: 0.0084 - val_accuracy: 0.9976\n",
      "Epoch 12/15\n",
      "1875/1875 [==============================] - 121s 64ms/step - loss: 0.0067 - accuracy: 0.9981 - val_loss: 0.0092 - val_accuracy: 0.9974\n",
      "Epoch 13/15\n",
      "1875/1875 [==============================] - 125s 67ms/step - loss: 0.0071 - accuracy: 0.9982 - val_loss: 0.0043 - val_accuracy: 0.9987\n",
      "Epoch 14/15\n",
      "1875/1875 [==============================] - 136s 73ms/step - loss: 0.0071 - accuracy: 0.9982 - val_loss: 0.0050 - val_accuracy: 0.9983\n",
      "Epoch 15/15\n",
      "1875/1875 [==============================] - 116s 62ms/step - loss: 0.0050 - accuracy: 0.9988 - val_loss: 0.0078 - val_accuracy: 0.9979\n"
     ]
    },
    {
     "data": {
      "text/plain": [
       "<keras.src.callbacks.History at 0x17c9f3610>"
      ]
     },
     "execution_count": 19,
     "metadata": {},
     "output_type": "execute_result"
    }
   ],
   "source": [
    "cnn.fit(\n",
    "    X_train,\n",
    "    y_train,\n",
    "    epochs=epochs,\n",
    "    verbose=1,\n",
    "    validation_data=(X_train, y_train),\n",
    "    callbacks=[tensorboard, early_stopping]\n",
    ")"
   ]
  },
  {
   "cell_type": "code",
   "execution_count": 20,
   "id": "d9ffa335",
   "metadata": {},
   "outputs": [
    {
     "name": "stdout",
     "output_type": "stream",
     "text": [
      "313/313 [==============================] - 2s 7ms/step - loss: 0.0659 - accuracy: 0.9888\n"
     ]
    }
   ],
   "source": [
    "score = cnn.evaluate(X_test, y_test)"
   ]
  },
  {
   "cell_type": "markdown",
   "id": "82fd4735",
   "metadata": {},
   "source": [
    "## Create a function to save our model"
   ]
  },
  {
   "cell_type": "code",
   "execution_count": 21,
   "id": "abbb3441",
   "metadata": {},
   "outputs": [],
   "source": [
    "def save_model(model, suffix=None):\n",
    "  \"\"\"\n",
    "  saves a given model in our models directry and appends a suffix string\n",
    "  \"\"\"\n",
    "  # create a model directory with current time\n",
    "  modeldir = os.path.join(\n",
    "      \"./models\",\n",
    "      datetime.datetime.now().strftime('%Y%m%m%d-%H%M%s')\n",
    "  )\n",
    "\n",
    "  model_path = modeldir + '-' + '.h5' # save format for models\n",
    "  print(f\"saving model to {model_path}...\")\n",
    "  model.save(model_path)\n",
    "\n",
    "  return model_path"
   ]
  },
  {
   "cell_type": "code",
   "execution_count": 22,
   "id": "367a225b",
   "metadata": {},
   "outputs": [
    {
     "name": "stdout",
     "output_type": "stream",
     "text": [
      "saving model to ./models/2023101022-16361698007014-.h5...\n"
     ]
    },
    {
     "name": "stderr",
     "output_type": "stream",
     "text": [
      "/Users/gregmckenzie/anaconda3/lib/python3.11/site-packages/keras/src/engine/training.py:3079: UserWarning: You are saving your model as an HDF5 file via `model.save()`. This file format is considered legacy. We recommend using instead the native Keras format, e.g. `model.save('my_model.keras')`.\n",
      "  saving_api.save_model(\n"
     ]
    },
    {
     "data": {
      "text/plain": [
       "'./models/2023101022-16361698007014-.h5'"
      ]
     },
     "execution_count": 22,
     "metadata": {},
     "output_type": "execute_result"
    }
   ],
   "source": [
    "save_model(cnn)"
   ]
  },
  {
   "cell_type": "markdown",
   "id": "f3cf1f32",
   "metadata": {},
   "source": [
    "## Create function load model"
   ]
  },
  {
   "cell_type": "code",
   "execution_count": 23,
   "id": "2e354929",
   "metadata": {},
   "outputs": [],
   "source": [
    "def load_model(model_path):\n",
    "  \"\"\"\n",
    "  loads a saved model from a specified path\n",
    "  \"\"\"\n",
    "  print(f\"loading saved model from {model_path}...\")\n",
    "\n",
    "  # load in our model!\n",
    "  model = tf.keras.models.load_model(model_path)\n",
    "\n",
    "  return model"
   ]
  },
  {
   "cell_type": "code",
   "execution_count": 28,
   "id": "79f0930d",
   "metadata": {},
   "outputs": [
    {
     "name": "stdout",
     "output_type": "stream",
     "text": [
      "loading saved model from ./models/2023101022-16361698007014-.h5...\n"
     ]
    }
   ],
   "source": [
    "cnn = load_model('./models/2023101022-16361698007014-.h5')"
   ]
  },
  {
   "cell_type": "markdown",
   "id": "e753959a",
   "metadata": {},
   "source": [
    "### Make Predictions"
   ]
  },
  {
   "cell_type": "code",
   "execution_count": 29,
   "id": "264fe4dc",
   "metadata": {},
   "outputs": [
    {
     "name": "stdout",
     "output_type": "stream",
     "text": [
      "313/313 [==============================] - 2s 7ms/step\n"
     ]
    }
   ],
   "source": [
    "predictions = cnn.predict(X_test)"
   ]
  },
  {
   "cell_type": "markdown",
   "id": "1337007d",
   "metadata": {},
   "source": [
    "### Create a Confusion Matrix"
   ]
  },
  {
   "cell_type": "code",
   "execution_count": 30,
   "id": "7f41a9e2",
   "metadata": {},
   "outputs": [],
   "source": [
    "predicted_labels = np.argmax(predictions, axis=1)\n",
    "true_labels = np.argmax(y_test, axis=1)\n",
    "cm = confusion_matrix(true_labels, predicted_labels)"
   ]
  },
  {
   "cell_type": "code",
   "execution_count": 31,
   "id": "0bc8c3cf",
   "metadata": {},
   "outputs": [
    {
     "data": {
      "image/png": "[encoded data removed]",
      "text/plain": [
       "<Figure size 1000x800 with 2 Axes>"
      ]
     },
     "metadata": {},
     "output_type": "display_data"
    }
   ],
   "source": [
    "plt.figure(figsize=(10, 8))\n",
    "sns.heatmap(cm, annot=True, fmt=\"d\", cmap=\"Blues\")\n",
    "plt.xlabel('Predicted Label')\n",
    "plt.ylabel('True Label')\n",
    "plt.title('Confusion Matrix')\n",
    "plt.show()"
   ]
  },
  {
   "cell_type": "code",
   "execution_count": null,
   "id": "e80118e9",
   "metadata": {},
   "outputs": [],
   "source": []
  }
 ],
 "metadata": {
  "kernelspec": {
   "display_name": "Python 3 (ipykernel)",
   "language": "python",
   "name": "python3"
  },
  "language_info": {
   "codemirror_mode": {
    "name": "ipython",
    "version": 3
   },
   "file_extension": ".py",
   "mimetype": "text/x-python",
   "name": "python",
   "nbconvert_exporter": "python",
   "pygments_lexer": "ipython3",
   "version": "3.11.4"
  }
 },
 "nbformat": 4,
 "nbformat_minor": 5
}
