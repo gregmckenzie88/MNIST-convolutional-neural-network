{
 "cells": [
  {
   "cell_type": "markdown",
   "id": "f276e91d",
   "metadata": {},
   "source": [
    "# MNIST image classification with Convolutional Neural Network"
   ]
  },
  {
   "cell_type": "code",
   "execution_count": 21,
   "id": "5a9bc8ec",
   "metadata": {},
   "outputs": [],
   "source": [
    "from keras.layers import Conv2D, MaxPooling2D, Flatten, Dense\n",
    "from keras.models import Sequential\n",
    "from keras.datasets import mnist\n",
    "from keras.utils import to_categorical\n",
    "import tensorflow as tf\n",
    "import datetime\n",
    "import os\n",
    "\n",
    "import matplotlib.pyplot as plt\n",
    "%matplotlib inline"
   ]
  },
  {
   "cell_type": "markdown",
   "id": "cdb7b46f",
   "metadata": {},
   "source": [
    "## Load the Data"
   ]
  },
  {
   "cell_type": "code",
   "execution_count": 2,
   "id": "fbb60dc9",
   "metadata": {},
   "outputs": [],
   "source": [
    "(X_train, y_train), (X_test, y_test) = mnist.load_data()"
   ]
  },
  {
   "cell_type": "code",
   "execution_count": 3,
   "id": "f8b7fe80",
   "metadata": {},
   "outputs": [
    {
     "name": "stdout",
     "output_type": "stream",
     "text": [
      "(60000, 28, 28)\n",
      "(60000,)\n",
      "(10000, 28, 28)\n",
      "(10000,)\n"
     ]
    }
   ],
   "source": [
    "print(X_train.shape)\n",
    "print(y_train.shape)\n",
    "print(X_test.shape)\n",
    "print(y_test.shape)"
   ]
  },
  {
   "cell_type": "markdown",
   "id": "cfff6128",
   "metadata": {},
   "source": [
    "## Pre-processing\n",
    "Our MNIST images only have a depth of 1, but we must explicitly declare that"
   ]
  },
  {
   "cell_type": "code",
   "execution_count": 4,
   "id": "50457970",
   "metadata": {},
   "outputs": [],
   "source": [
    "num_classes = 10\n",
    "epochs = 5\n",
    "\n",
    "X_train = X_train.reshape(60000, 28, 28, 1)\n",
    "X_test = X_test.reshape(10000, 28, 28, 1)\n",
    "X_train = X_train.astype('float32')\n",
    "X_test = X_test.astype('float32')\n",
    "X_train /=255.0\n",
    "X_test /=255.0\n",
    "y_train = to_categorical(y_train, num_classes)\n",
    "y_test = to_categorical(y_test, num_classes)"
   ]
  },
  {
   "cell_type": "code",
   "execution_count": 5,
   "id": "87e8c5d8",
   "metadata": {},
   "outputs": [
    {
     "name": "stdout",
     "output_type": "stream",
     "text": [
      "(60000, 28, 28, 1)\n",
      "(60000, 10)\n",
      "(10000, 28, 28, 1)\n",
      "(10000, 10)\n"
     ]
    }
   ],
   "source": [
    "print(X_train.shape)\n",
    "print(y_train.shape)\n",
    "print(X_test.shape)\n",
    "print(y_test.shape)"
   ]
  },
  {
   "cell_type": "markdown",
   "id": "b5c04f9d",
   "metadata": {},
   "source": [
    "## Create & Compile the Model\n",
    "\n",
    "\n",
    "\n",
    "![Diagram](./model-arch.png)"
   ]
  },
  {
   "cell_type": "code",
   "execution_count": 6,
   "id": "8c0fbb4b",
   "metadata": {},
   "outputs": [],
   "source": [
    "cnn = Sequential()"
   ]
  },
  {
   "cell_type": "code",
   "execution_count": 7,
   "id": "b276dcef",
   "metadata": {},
   "outputs": [],
   "source": [
    "cnn.add(\n",
    "    Conv2D(\n",
    "        32,\n",
    "        kernel_size=(5, 5),\n",
    "        input_shape=(28, 28, 1),\n",
    "        padding='same',\n",
    "        activation='relu'\n",
    "    )\n",
    ")"
   ]
  },
  {
   "cell_type": "code",
   "execution_count": 8,
   "id": "3aaa2c93",
   "metadata": {},
   "outputs": [],
   "source": [
    "cnn.add(MaxPooling2D())"
   ]
  },
  {
   "cell_type": "code",
   "execution_count": 9,
   "id": "5d461d47",
   "metadata": {},
   "outputs": [],
   "source": [
    "cnn.add(\n",
    "    Conv2D(\n",
    "        64,\n",
    "        kernel_size=(5, 5),\n",
    "        padding='same',\n",
    "        activation='relu'\n",
    "    )\n",
    ")"
   ]
  },
  {
   "cell_type": "code",
   "execution_count": 10,
   "id": "0fc32b65",
   "metadata": {},
   "outputs": [],
   "source": [
    "cnn.add(MaxPooling2D())"
   ]
  },
  {
   "cell_type": "code",
   "execution_count": 11,
   "id": "e9ca4624",
   "metadata": {},
   "outputs": [],
   "source": [
    "cnn.add(Flatten())"
   ]
  },
  {
   "cell_type": "code",
   "execution_count": 12,
   "id": "f87eea9b",
   "metadata": {},
   "outputs": [],
   "source": [
    "cnn.add(\n",
    "    Dense(1024, activation='relu')\n",
    ")"
   ]
  },
  {
   "cell_type": "code",
   "execution_count": 13,
   "id": "515b1f06",
   "metadata": {},
   "outputs": [],
   "source": [
    "cnn.add(\n",
    "    Dense(10, activation='softmax')\n",
    ")"
   ]
  },
  {
   "cell_type": "code",
   "execution_count": 14,
   "id": "fa855f98",
   "metadata": {},
   "outputs": [],
   "source": [
    "cnn.compile(\n",
    "    optimizer='adam',\n",
    "    loss='categorical_crossentropy',\n",
    "    metrics=['accuracy']\n",
    ")"
   ]
  },
  {
   "cell_type": "code",
   "execution_count": 15,
   "id": "2feedbe2",
   "metadata": {},
   "outputs": [
    {
     "name": "stdout",
     "output_type": "stream",
     "text": [
      "Model: \"sequential\"\n",
      "_________________________________________________________________\n",
      " Layer (type)                Output Shape              Param #   \n",
      "=================================================================\n",
      " conv2d (Conv2D)             (None, 28, 28, 32)        832       \n",
      "                                                                 \n",
      " max_pooling2d (MaxPooling2  (None, 14, 14, 32)        0         \n",
      " D)                                                              \n",
      "                                                                 \n",
      " conv2d_1 (Conv2D)           (None, 14, 14, 64)        51264     \n",
      "                                                                 \n",
      " max_pooling2d_1 (MaxPoolin  (None, 7, 7, 64)          0         \n",
      " g2D)                                                            \n",
      "                                                                 \n",
      " flatten (Flatten)           (None, 3136)              0         \n",
      "                                                                 \n",
      " dense (Dense)               (None, 1024)              3212288   \n",
      "                                                                 \n",
      " dense_1 (Dense)             (None, 10)                10250     \n",
      "                                                                 \n",
      "=================================================================\n",
      "Total params: 3274634 (12.49 MB)\n",
      "Trainable params: 3274634 (12.49 MB)\n",
      "Non-trainable params: 0 (0.00 Byte)\n",
      "_________________________________________________________________\n",
      "None\n"
     ]
    }
   ],
   "source": [
    "print(cnn.summary())"
   ]
  },
  {
   "cell_type": "markdown",
   "id": "92539159",
   "metadata": {},
   "source": [
    "## Train the Model"
   ]
  },
  {
   "cell_type": "code",
   "execution_count": 16,
   "id": "d35f9694",
   "metadata": {},
   "outputs": [
    {
     "name": "stdout",
     "output_type": "stream",
     "text": [
      "Epoch 1/5\n",
      "1875/1875 [==============================] - 118s 62ms/step - loss: 0.0943 - accuracy: 0.9714 - val_loss: 0.0498 - val_accuracy: 0.9840\n",
      "Epoch 2/5\n",
      "1875/1875 [==============================] - 117s 62ms/step - loss: 0.0345 - accuracy: 0.9891 - val_loss: 0.0190 - val_accuracy: 0.9941\n",
      "Epoch 3/5\n",
      "1875/1875 [==============================] - 118s 63ms/step - loss: 0.0237 - accuracy: 0.9926 - val_loss: 0.0186 - val_accuracy: 0.9941\n",
      "Epoch 4/5\n",
      "1875/1875 [==============================] - 118s 63ms/step - loss: 0.0179 - accuracy: 0.9945 - val_loss: 0.0113 - val_accuracy: 0.9962\n",
      "Epoch 5/5\n",
      "1875/1875 [==============================] - 118s 63ms/step - loss: 0.0124 - accuracy: 0.9959 - val_loss: 0.0058 - val_accuracy: 0.9979\n"
     ]
    },
    {
     "data": {
      "text/plain": [
       "<keras.src.callbacks.History at 0x17840f890>"
      ]
     },
     "execution_count": 16,
     "metadata": {},
     "output_type": "execute_result"
    }
   ],
   "source": [
    "cnn.fit(\n",
    "    X_train,\n",
    "    y_train,\n",
    "    epochs=epochs,\n",
    "    verbose=1,\n",
    "    validation_data=(X_train, y_train)\n",
    ")"
   ]
  },
  {
   "cell_type": "code",
   "execution_count": 19,
   "id": "3c908e53",
   "metadata": {},
   "outputs": [
    {
     "name": "stdout",
     "output_type": "stream",
     "text": [
      "313/313 [==============================] - 3s 7ms/step - loss: 0.0265 - accuracy: 0.9926\n"
     ]
    }
   ],
   "source": [
    "score = cnn.evaluate(X_test, y_test)"
   ]
  },
  {
   "cell_type": "markdown",
   "id": "66ab2f61",
   "metadata": {},
   "source": [
    "## Create a function to save our model"
   ]
  },
  {
   "cell_type": "code",
   "execution_count": 24,
   "id": "9a986e65",
   "metadata": {},
   "outputs": [],
   "source": [
    "def save_model(model, suffix=None):\n",
    "  \"\"\"\n",
    "  saves a given model in our models directry and appends a suffix string\n",
    "  \"\"\"\n",
    "  # create a model directory with current time\n",
    "  modeldir = os.path.join(\n",
    "      \"./models\",\n",
    "      datetime.datetime.now().strftime('%Y%m%m%d-%H%M%s')\n",
    "  )\n",
    "\n",
    "  model_path = modeldir + '-' + '.h5' # save format for models\n",
    "  print(f\"saving model to {model_path}...\")\n",
    "  model.save(model_path)\n",
    "\n",
    "  return model_path"
   ]
  },
  {
   "cell_type": "code",
   "execution_count": 25,
   "id": "84ba024c",
   "metadata": {},
   "outputs": [
    {
     "name": "stdout",
     "output_type": "stream",
     "text": [
      "saving model to ./models/2023101022-12441697993056-.h5...\n"
     ]
    },
    {
     "name": "stderr",
     "output_type": "stream",
     "text": [
      "/Users/gregmckenzie/anaconda3/lib/python3.11/site-packages/keras/src/engine/training.py:3079: UserWarning: You are saving your model as an HDF5 file via `model.save()`. This file format is considered legacy. We recommend using instead the native Keras format, e.g. `model.save('my_model.keras')`.\n",
      "  saving_api.save_model(\n"
     ]
    },
    {
     "data": {
      "text/plain": [
       "'./models/2023101022-12441697993056-.h5'"
      ]
     },
     "execution_count": 25,
     "metadata": {},
     "output_type": "execute_result"
    }
   ],
   "source": [
    "save_model(cnn)"
   ]
  },
  {
   "cell_type": "markdown",
   "id": "1b3454aa",
   "metadata": {},
   "source": [
    "## Create function load model"
   ]
  },
  {
   "cell_type": "code",
   "execution_count": 26,
   "id": "782038c5",
   "metadata": {},
   "outputs": [],
   "source": [
    "def load_model(model_path):\n",
    "  \"\"\"\n",
    "  loads a saved model from a specified path\n",
    "  \"\"\"\n",
    "  print(f\"loading saved model from {model_path}...\")\n",
    "\n",
    "  # load in our model!\n",
    "  model = tf.keras.models.load_model(model_path)\n",
    "\n",
    "  return model"
   ]
  },
  {
   "cell_type": "code",
   "execution_count": 27,
   "id": "ddcf3e16",
   "metadata": {},
   "outputs": [
    {
     "name": "stdout",
     "output_type": "stream",
     "text": [
      "loading saved model from ./models/2023101022-12441697993056-.h5...\n"
     ]
    }
   ],
   "source": [
    "cnn = load_model('./models/2023101022-12441697993056-.h5')"
   ]
  },
  {
   "cell_type": "code",
   "execution_count": null,
   "id": "3f7cadec",
   "metadata": {},
   "outputs": [],
   "source": []
  }
 ],
 "metadata": {
  "kernelspec": {
   "display_name": "Python 3 (ipykernel)",
   "language": "python",
   "name": "python3"
  },
  "language_info": {
   "codemirror_mode": {
    "name": "ipython",
    "version": 3
   },
   "file_extension": ".py",
   "mimetype": "text/x-python",
   "name": "python",
   "nbconvert_exporter": "python",
   "pygments_lexer": "ipython3",
   "version": "3.11.4"
  }
 },
 "nbformat": 4,
 "nbformat_minor": 5
}
